import unittest

def add(x, y):
    """Add Function"""
    return x + y
def subtract(x,y):
    """Subtract Function"""
    return x - y
    
def multiply(x, y):
    """Multiply Function"""
    return x * y
   
def divide(x, y):
    """Divide Function"""
    if y == 0:
        raise ValueError ('Can not divide by zero!')
    return x / y   
class TestCalc(unittest.TestCase):
    def test_add(self):
        self.assertEqual(add(5, 3), 8)
    def test_subtract(self):
        self.assertEqual(subtract(5, 3), 2)
    def test_multiply(self):
        self.assertEqual(multiply(2, 3), 6)
    def test_divide(self):
        self.assertEqual(divide(6, 2), 3)
   unittest.main(argv=[''], verbosity=2, exit=False)   